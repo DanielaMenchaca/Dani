{
 "cells": [
  {
   "cell_type": "markdown",
   "metadata": {},
   "source": [
    "# L02"
   ]
  },
  {
   "cell_type": "markdown",
   "metadata": {},
   "source": [
    "### 1. a)"
   ]
  },
  {
   "cell_type": "markdown",
   "metadata": {},
   "source": [
    "Esta primera función es auxiliar de la función pedida (igual al ejemplo), esta hace basicamente todo lo pedido.\n",
    "\n",
    "Es una funcion que recibe tres parametros, un mapa, una celda incial y una lista con los valores que ya se han revisado (esta empieza vacía). Lo primero es ingresar la celda inicial como una de las ya recorridas, después compara todas las celdas vecinas a la inicial y cuando encuentra una que sea igual a esta la agrega y vuelve a llamarse a la función para hacer lo mismo pero con esta nueva celda como la inicial (recursión). "
   ]
  },
  {
   "cell_type": "code",
   "execution_count": 1,
   "metadata": {},
   "outputs": [],
   "source": [
    "import time"
   ]
  },
  {
   "cell_type": "code",
   "execution_count": 2,
   "metadata": {},
   "outputs": [],
   "source": [
    "def sup_de_nivel(mapa,celda,recorrido):\n",
    "    recorrido.append(celda)\n",
    "    nij = mapa[celda[0]][celda[1]]\n",
    "    \n",
    "    if celda[0]-1 >= 0:\n",
    "        if celda[1]-1 >= 0:\n",
    "            if mapa[celda[0]-1][celda[1]-1] == nij and (celda[0]-1,celda[1]-1) not in recorrido:\n",
    "                sup_de_nivel(mapa,(celda[0]-1,celda[1]-1),recorrido)\n",
    "        if mapa[celda[0]-1][celda[1]] == nij and (celda[0]-1,celda[1]) not in recorrido:\n",
    "            sup_de_nivel(mapa,(celda[0]-1,celda[1]),recorrido)\n",
    "        if celda[1]+1 < len(mapa[0]):\n",
    "            if mapa[celda[0]-1][celda[1]+1] == nij and (celda[0]-1,celda[1]+1) not in recorrido:\n",
    "                sup_de_nivel(mapa,(celda[0]-1,celda[1]+1),recorrido)\n",
    "                \n",
    "    if celda[0]+1 < len(mapa):\n",
    "        if celda[1]-1 >= 0:\n",
    "            if mapa[celda[0]+1][celda[1]-1] == nij and (celda[0]+1,celda[1]-1) not in recorrido:\n",
    "                sup_de_nivel(mapa,(celda[0]+1,celda[1]-1),recorrido)\n",
    "        if mapa[celda[0]+1][celda[1]] == nij and (celda[0]+1,celda[1]) not in recorrido:\n",
    "            sup_de_nivel(mapa,(celda[0]+1,celda[1]),recorrido)\n",
    "        if celda[1]+1 < len(mapa[0]):\n",
    "            if mapa[celda[0]+1][celda[1]+1] == nij and (celda[0]+1,celda[1]+1) not in recorrido:\n",
    "                sup_de_nivel(mapa,(celda[0]+1,celda[1]+1),recorrido)\n",
    "                \n",
    "    if celda[1]+1 < len(mapa[0]):\n",
    "        if mapa[celda[0]][celda[1]+1] == nij and (celda[0],celda[1]+1) not in recorrido:\n",
    "                sup_de_nivel(mapa,(celda[0],celda[1]+1),recorrido)\n",
    "    \n",
    "    if celda[1]-1 >= 0:\n",
    "        if mapa[celda[0]][celda[1]-1] == nij and (celda[0],celda[1]-1) not in recorrido:\n",
    "                sup_de_nivel(mapa,(celda[0],celda[1]-1),recorrido)\n",
    "\n",
    "    "
   ]
  },
  {
   "cell_type": "markdown",
   "metadata": {},
   "source": [
    "La función que sigue sirve para retornar lo pedido, simplemente se inicializa la función anterior entregando la lista recorrido vacía y despues de llamar a la función anterior la ordena fila y columna"
   ]
  },
  {
   "cell_type": "code",
   "execution_count": 3,
   "metadata": {},
   "outputs": [],
   "source": [
    "def superficie_de_nivel(mapa,celda):\n",
    "    recorrido = []\n",
    "    sup_de_nivel(mapa,celda,recorrido)\n",
    "    recorrido.sort()\n",
    "    return (recorrido)"
   ]
  },
  {
   "cell_type": "markdown",
   "metadata": {},
   "source": [
    "Este es un ejemplo del funcionamiento de la función con un ejemplo pequeño."
   ]
  },
  {
   "cell_type": "code",
   "execution_count": 4,
   "metadata": {},
   "outputs": [
    {
     "name": "stdout",
     "output_type": "stream",
     "text": [
      "[(0, 0), (0, 1), (0, 2), (0, 3), (1, 0), (2, 0), (2, 1)]\n"
     ]
    }
   ],
   "source": [
    "mapa=[[1,1,1,1],[1,2,4,4],[1,1,5,7]]\n",
    "celda = (1,0)\n",
    "\n",
    "celdas = superficie_de_nivel(mapa,celda)\n",
    "\n",
    "print(celdas)"
   ]
  },
  {
   "cell_type": "markdown",
   "metadata": {},
   "source": [
    "### 1. b)"
   ]
  },
  {
   "cell_type": "code",
   "execution_count": 5,
   "metadata": {},
   "outputs": [],
   "source": [
    "def son_anagramas(string1, string2):\n",
    "    diccionario = dict()\n",
    "    dicc = dict()\n",
    "    if len(string1) != len(string2):\n",
    "        return (False)\n",
    "    else:\n",
    "        for i in string1:\n",
    "            if i not in diccionario:\n",
    "                diccionario[i] = 0\n",
    "            else:\n",
    "                diccionario[i] += 1\n",
    "        for i in string2:\n",
    "            if i not in dicc:\n",
    "                dicc[i] = 0\n",
    "            else:\n",
    "                dicc[i] += 1\n",
    "        if diccionario.items() == dicc.items():\n",
    "            return (True)\n",
    "        else:\n",
    "            return (False)"
   ]
  },
  {
   "cell_type": "markdown",
   "metadata": {},
   "source": [
    "Un ejemplo pequeño."
   ]
  },
  {
   "cell_type": "code",
   "execution_count": 6,
   "metadata": {},
   "outputs": [
    {
     "name": "stdout",
     "output_type": "stream",
     "text": [
      "0.0\n"
     ]
    }
   ],
   "source": [
    "inicio = time.time()\n",
    "string1 = 'solucion'\n",
    "string2 = 'oclusion'\n",
    "s = son_anagramas(string1, string2)\n",
    "print(time.time()-inicio)"
   ]
  },
  {
   "cell_type": "markdown",
   "metadata": {},
   "source": [
    "### 2. a)"
   ]
  },
  {
   "cell_type": "markdown",
   "metadata": {},
   "source": [
    "Esta función recorre la lista con las alturas de un muro y a partir de un booleano determina si esta subiendo o bajando, una ves que se tiene el rango se guadan los indices en los que empiza y termina en la función original para despues compararlos con el siguiente rango posible, siempre se guarda el de mayor rango. Finalmente se entrega el rango del muro que cumpla la escalera más larga"
   ]
  },
  {
   "cell_type": "code",
   "execution_count": 7,
   "metadata": {},
   "outputs": [],
   "source": [
    "def nuevo_muro(muro):\n",
    "    desde = 0\n",
    "    hasta= 0\n",
    "    desde_ = 0\n",
    "    subiendo = True\n",
    "    for i in range(len(muro)-1):      \n",
    "        if subiendo:\n",
    "            if muro[i]>muro[i+1]:\n",
    "                subiendo = False\n",
    "            if muro[i]==muro[i+1]:\n",
    "                if hasta-desde < i - desde_:\n",
    "                    desde=desde_\n",
    "                    hasta=i\n",
    "                desde_= i+1\n",
    "        else:\n",
    "            if muro[i] <= muro[i+1]:\n",
    "                subiendo=True\n",
    "                if hasta-desde < i - desde_:\n",
    "                    desde=desde_\n",
    "                    hasta=i\n",
    "                if muro[i]<muro[i+1]:\n",
    "                    desde_=i\n",
    "                if muro[i]==muro[i+1]:\n",
    "                    desde_=i+1\n",
    "    if hasta-desde < (len(muro)-1) - desde_:\n",
    "        desde=desde_\n",
    "        hasta=len(muro)-1\n",
    "    return (muro[desde:hasta + 1])"
   ]
  },
  {
   "cell_type": "code",
   "execution_count": 8,
   "metadata": {},
   "outputs": [
    {
     "name": "stdout",
     "output_type": "stream",
     "text": [
      "[5, 6, 10, 11, 9, 6, 4]\n",
      "0.0006425380706787109\n"
     ]
    }
   ],
   "source": [
    "inicio = time.time()\n",
    "muro_actual = [4, 6, 9, 5, 6, 10, 11, 9, 6, 4, 5]\n",
    "nuevo_muro = nuevo_muro(muro_actual)\n",
    "print(nuevo_muro)\n",
    "print(time.time()-inicio)"
   ]
  },
  {
   "cell_type": "code",
   "execution_count": null,
   "metadata": {},
   "outputs": [],
   "source": []
  }
 ],
 "metadata": {
  "kernelspec": {
   "display_name": "'Python Interactive'",
   "language": "python",
   "name": "4a6ad9a4-6dfb-4c09-8781-aba7ef336816"
  },
  "language_info": {
   "codemirror_mode": {
    "name": "ipython",
    "version": 3
   },
   "file_extension": ".py",
   "mimetype": "text/x-python",
   "name": "python",
   "nbconvert_exporter": "python",
   "pygments_lexer": "ipython3",
   "version": "3.7.3"
  }
 },
 "nbformat": 4,
 "nbformat_minor": 2
}
