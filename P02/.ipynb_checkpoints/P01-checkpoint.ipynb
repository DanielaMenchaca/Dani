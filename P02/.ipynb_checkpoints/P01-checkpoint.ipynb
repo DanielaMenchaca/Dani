{
 "cells": [
  {
   "cell_type": "markdown",
   "metadata": {},
   "source": [
    "# P02"
   ]
  },
  {
   "cell_type": "markdown",
   "metadata": {},
   "source": [
    "a)  En primer lugar se transforma el numero en un string para poder recorrerlo. Se crea una lista (stack) que va a resivir los dijitos de a uno y cada vez que llega uno nuevo se compara con el anterior, en caso de ser igual al anterior, es decir, esta repetido, se elimina el ultimo en ingresar (LIFO)"
   ]
  },
  {
   "cell_type": "code",
   "execution_count": null,
   "metadata": {},
   "outputs": [],
   "source": [
    "def eliminar_duplicados_contiguos(n):\n",
    "    n=str(n)\n",
    "    stack= []\n",
    "    for i in n:\n",
    "        stack.append(i)\n",
    "        if len(stack) > 1:\n",
    "            if stack[-1] == stack [-2]:\n",
    "                stack.pop()\n",
    "    return (int(''.join(stack)))"
   ]
  },
  {
   "cell_type": "code",
   "execution_count": null,
   "metadata": {},
   "outputs": [],
   "source": [
    "n = 1242241\n",
    "n_ = eliminar_duplicados_contiguos(n)\n",
    "print(n_)"
   ]
  },
  {
   "cell_type": "markdown",
   "metadata": {},
   "source": [
    "b) Nuevamente se convierte a un string por simplicidad. Recorriendo los valores se establece como llave cualquier numero que no hubiese aparecido antes, llevando un registro de la cantidad de veces que ha aparecido un valor (esto último no tiene ninguna relevancia para el enunciado). Retornando finalmente las llaves del diccionario.\n",
    "\n",
    "Por otro lado se podría haber definido un diccionario con dos llaves, una para los valores que se quiere retornar (no repetidos) y otra para los valores repetidos; los valores correspondientes a cada una de estas llaves sería una lista en que se van guardando los numeros, retornando finalmente  los valores de la primera llave."
   ]
  },
  {
   "cell_type": "code",
   "execution_count": null,
   "metadata": {},
   "outputs": [],
   "source": [
    "def eliminar_duplicados(n):\n",
    "    n = str(n)\n",
    "    dicc = dict()\n",
    "    for i in n:\n",
    "        if i not in dicc:\n",
    "            dicc[i] = 0\n",
    "        dicc[i] += 1\n",
    "    return (int(''.join(dicc.keys())))\n",
    "            "
   ]
  },
  {
   "cell_type": "code",
   "execution_count": null,
   "metadata": {},
   "outputs": [],
   "source": [
    "n = 133242241\n",
    "n_ = eliminar_duplicados(n)\n",
    "print(n_)"
   ]
  }
 ],
 "metadata": {
  "kernelspec": {
   "display_name": "'Python Interactive'",
   "language": "python",
   "name": "4a6ad9a4-6dfb-4c09-8781-aba7ef336816"
  },
  "language_info": {
   "codemirror_mode": {
    "name": "ipython",
    "version": 3
   },
   "file_extension": ".py",
   "mimetype": "text/x-python",
   "name": "python",
   "nbconvert_exporter": "python",
   "pygments_lexer": "ipython3",
   "version": "3.7.3"
  }
 },
 "nbformat": 4,
 "nbformat_minor": 2
}
