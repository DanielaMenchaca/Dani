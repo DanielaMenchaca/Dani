{
 "cells": [
  {
   "cell_type": "markdown",
   "metadata": {},
   "source": [
    "Lo primero es definir los objetos necesarios para el funcionamiento de la revision, vehiculos, fila, mecanicos. Se debe registrar un orden dentro de los vehiculos y permitir el ingreso de un vehiculo en la fila. Si existe un solo tiepo de mecanico entonces estas clases deberían interactuar para definir cuando un vehiculo es revisado por un mecanico y de esta forma sale de la fila."
   ]
  },
  {
   "cell_type": "code",
   "execution_count": null,
   "metadata": {},
   "outputs": [],
   "source": [
    "class vehiculo:  \n",
    "    def __init__ (self, _id, tipo):\n",
    "        self._id = _id\n",
    "        self.tipo = tipo\n",
    "    \n",
    "        \n"
   ]
  }
 ],
 "metadata": {
  "kernelspec": {
   "display_name": "'Python Interactive'",
   "language": "python",
   "name": "4a6ad9a4-6dfb-4c09-8781-aba7ef336816"
  },
  "language_info": {
   "codemirror_mode": {
    "name": "ipython",
    "version": 3
   },
   "file_extension": ".py",
   "mimetype": "text/x-python",
   "name": "python",
   "nbconvert_exporter": "python",
   "pygments_lexer": "ipython3",
   "version": "3.7.3"
  }
 },
 "nbformat": 4,
 "nbformat_minor": 2
}
